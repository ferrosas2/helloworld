{
 "cells": [
  {
   "cell_type": "markdown",
   "metadata": {},
   "source": [
    "# Import Required Libraries\n",
    "Import libraries such as NumPy, pandas, SciPy, and scikit-learn for calculations and dataset generation."
   ]
  },
  {
   "cell_type": "code",
   "execution_count": 1,
   "metadata": {},
   "outputs": [
    {
     "name": "stderr",
     "output_type": "stream",
     "text": [
      "c:\\Users\\DELL\\anaconda3\\lib\\site-packages\\pandas\\core\\computation\\expressions.py:21: UserWarning: Pandas requires version '2.8.4' or newer of 'numexpr' (version '2.8.3' currently installed).\n",
      "  from pandas.core.computation.check import NUMEXPR_INSTALLED\n",
      "c:\\Users\\DELL\\anaconda3\\lib\\site-packages\\pandas\\core\\arrays\\masked.py:60: UserWarning: Pandas requires version '1.3.6' or newer of 'bottleneck' (version '1.3.5' currently installed).\n",
      "  from pandas.core import (\n"
     ]
    }
   ],
   "source": [
    "# Import necessary libraries\n",
    "import numpy as np  # For numerical operations and random dataset generation\n",
    "import pandas as pd  # For handling datasets\n",
    "from scipy.stats import ks_2samp  # For Kolmogorov-Smirnov test\n",
    "from sklearn.metrics import (  # For regression performance metrics\n",
    "    mean_absolute_error,\n",
    "    mean_squared_error,\n",
    "    mean_squared_log_error,\n",
    "    max_error,\n",
    "    r2_score\n",
    ")"
   ]
  },
  {
   "cell_type": "markdown",
   "metadata": {},
   "source": [
    "# Generate Random Datasets\n",
    "Generate random datasets for true values (y_true) and predicted values (y_pred) using NumPy."
   ]
  },
  {
   "cell_type": "code",
   "execution_count": 2,
   "metadata": {},
   "outputs": [
    {
     "data": {
      "text/html": [
       "<div>\n",
       "<style scoped>\n",
       "    .dataframe tbody tr th:only-of-type {\n",
       "        vertical-align: middle;\n",
       "    }\n",
       "\n",
       "    .dataframe tbody tr th {\n",
       "        vertical-align: top;\n",
       "    }\n",
       "\n",
       "    .dataframe thead th {\n",
       "        text-align: right;\n",
       "    }\n",
       "</style>\n",
       "<table border=\"1\" class=\"dataframe\">\n",
       "  <thead>\n",
       "    <tr style=\"text-align: right;\">\n",
       "      <th></th>\n",
       "      <th>y_true</th>\n",
       "      <th>y_pred</th>\n",
       "    </tr>\n",
       "  </thead>\n",
       "  <tbody>\n",
       "    <tr>\n",
       "      <th>0</th>\n",
       "      <td>87.454012</td>\n",
       "      <td>88.324483</td>\n",
       "    </tr>\n",
       "    <tr>\n",
       "      <th>1</th>\n",
       "      <td>145.071431</td>\n",
       "      <td>142.081357</td>\n",
       "    </tr>\n",
       "    <tr>\n",
       "      <th>2</th>\n",
       "      <td>123.199394</td>\n",
       "      <td>124.117002</td>\n",
       "    </tr>\n",
       "    <tr>\n",
       "      <th>3</th>\n",
       "      <td>109.865848</td>\n",
       "      <td>89.990159</td>\n",
       "    </tr>\n",
       "    <tr>\n",
       "      <th>4</th>\n",
       "      <td>65.601864</td>\n",
       "      <td>63.405145</td>\n",
       "    </tr>\n",
       "  </tbody>\n",
       "</table>\n",
       "</div>"
      ],
      "text/plain": [
       "       y_true      y_pred\n",
       "0   87.454012   88.324483\n",
       "1  145.071431  142.081357\n",
       "2  123.199394  124.117002\n",
       "3  109.865848   89.990159\n",
       "4   65.601864   63.405145"
      ]
     },
     "execution_count": 2,
     "metadata": {},
     "output_type": "execute_result"
    }
   ],
   "source": [
    "# Generate random datasets for true values (y_true) and predicted values (y_pred)\n",
    "np.random.seed(42)  # Set seed for reproducibility\n",
    "\n",
    "# Generate random true values (y_true) and predicted values (y_pred)\n",
    "y_true = np.random.uniform(50, 150, 100)  # True values between 50 and 150\n",
    "y_pred = y_true + np.random.normal(0, 10, 100)  # Predicted values with added noise\n",
    "\n",
    "# Convert to pandas DataFrame for better visualization (optional)\n",
    "data = pd.DataFrame({'y_true': y_true, 'y_pred': y_pred})\n",
    "data.head()  # Display the first few rows of the dataset"
   ]
  },
  {
   "cell_type": "markdown",
   "metadata": {},
   "source": [
    "# Calculate MAPE (Mean Absolute Percentage Error)\n",
    "Implement the formula for MAPE and calculate it using y_true and y_pred."
   ]
  },
  {
   "cell_type": "code",
   "execution_count": 3,
   "metadata": {},
   "outputs": [
    {
     "name": "stdout",
     "output_type": "stream",
     "text": [
      "Mean Absolute Percentage Error (MAPE): 8.30%\n"
     ]
    }
   ],
   "source": [
    "# Calculate MAPE (Mean Absolute Percentage Error)\n",
    "def calculate_mape(y_true, y_pred):\n",
    "    \"\"\"\n",
    "    Calculate Mean Absolute Percentage Error (MAPE).\n",
    "    \n",
    "    Parameters:\n",
    "        y_true (array-like): True values.\n",
    "        y_pred (array-like): Predicted values.\n",
    "    \n",
    "    Returns:\n",
    "        float: MAPE value.\n",
    "    \"\"\"\n",
    "    y_true, y_pred = np.array(y_true), np.array(y_pred)\n",
    "    return np.mean(np.abs((y_true - y_pred) / y_true)) * 100\n",
    "\n",
    "# Calculate MAPE using the generated datasets\n",
    "mape = calculate_mape(y_true, y_pred)\n",
    "print(f\"Mean Absolute Percentage Error (MAPE): {mape:.2f}%\")"
   ]
  },
  {
   "cell_type": "markdown",
   "metadata": {},
   "source": [
    "# Perform Kolmogorov-Smirnov Test\n",
    "Use SciPy's ks_2samp function to perform the Kolmogorov-Smirnov test between y_true and y_pred."
   ]
  },
  {
   "cell_type": "code",
   "execution_count": 5,
   "metadata": {},
   "outputs": [
    {
     "name": "stdout",
     "output_type": "stream",
     "text": [
      "Kolmogorov-Smirnov Test Statistic: 0.0700\n",
      "P-value: 0.9684\n",
      "Fail to reject the null hypothesis: The distributions are the same.\n"
     ]
    }
   ],
   "source": [
    "# Perform Kolmogorov-Smirnov Test\n",
    "# Use SciPy's ks_2samp function to perform the Kolmogorov-Smirnov test between y_true and y_pred\n",
    "ks_statistic, p_value = ks_2samp(y_true, y_pred)\n",
    "\n",
    "# Display the results\n",
    "print(f\"Kolmogorov-Smirnov Test Statistic: {ks_statistic:.4f}\")\n",
    "print(f\"P-value: {p_value:.4f}\")\n",
    "\n",
    "#print if the null hypothesis is rejected or not\n",
    "if p_value < 0.05:\n",
    "    print(\"Reject the null hypothesis: The distributions are different.\")\n",
    "else:\n",
    "    print(\"Fail to reject the null hypothesis: The distributions are the same.\")"
   ]
  },
  {
   "cell_type": "markdown",
   "metadata": {},
   "source": [
    "# Calculate MAE (Mean Absolute Error)\n",
    "Use scikit-learn's mean_absolute_error function to calculate MAE."
   ]
  },
  {
   "cell_type": "code",
   "execution_count": 6,
   "metadata": {},
   "outputs": [
    {
     "name": "stdout",
     "output_type": "stream",
     "text": [
      "Mean Absolute Error (MAE): 7.21\n"
     ]
    }
   ],
   "source": [
    "from sklearn.metrics import mean_absolute_error\n",
    "\n",
    "# Calculate MAE (Mean Absolute Error)\n",
    "mae = mean_absolute_error(y_true, y_pred)\n",
    "\n",
    "# Display the result\n",
    "print(f\"Mean Absolute Error (MAE): {mae:.2f}\")"
   ]
  },
  {
   "cell_type": "markdown",
   "metadata": {},
   "source": [
    "# Calculate Percent Error\n",
    "Implement the formula for percent error and calculate it using y_true and y_pred."
   ]
  },
  {
   "cell_type": "code",
   "execution_count": 7,
   "metadata": {},
   "outputs": [
    {
     "data": {
      "text/html": [
       "<div>\n",
       "<style scoped>\n",
       "    .dataframe tbody tr th:only-of-type {\n",
       "        vertical-align: middle;\n",
       "    }\n",
       "\n",
       "    .dataframe tbody tr th {\n",
       "        vertical-align: top;\n",
       "    }\n",
       "\n",
       "    .dataframe thead th {\n",
       "        text-align: right;\n",
       "    }\n",
       "</style>\n",
       "<table border=\"1\" class=\"dataframe\">\n",
       "  <thead>\n",
       "    <tr style=\"text-align: right;\">\n",
       "      <th></th>\n",
       "      <th>y_true</th>\n",
       "      <th>y_pred</th>\n",
       "      <th>percent_error</th>\n",
       "    </tr>\n",
       "  </thead>\n",
       "  <tbody>\n",
       "    <tr>\n",
       "      <th>0</th>\n",
       "      <td>87.454012</td>\n",
       "      <td>88.324483</td>\n",
       "      <td>-0.995347</td>\n",
       "    </tr>\n",
       "    <tr>\n",
       "      <th>1</th>\n",
       "      <td>145.071431</td>\n",
       "      <td>142.081357</td>\n",
       "      <td>2.061104</td>\n",
       "    </tr>\n",
       "    <tr>\n",
       "      <th>2</th>\n",
       "      <td>123.199394</td>\n",
       "      <td>124.117002</td>\n",
       "      <td>-0.744815</td>\n",
       "    </tr>\n",
       "    <tr>\n",
       "      <th>3</th>\n",
       "      <td>109.865848</td>\n",
       "      <td>89.990159</td>\n",
       "      <td>18.090871</td>\n",
       "    </tr>\n",
       "    <tr>\n",
       "      <th>4</th>\n",
       "      <td>65.601864</td>\n",
       "      <td>63.405145</td>\n",
       "      <td>3.348562</td>\n",
       "    </tr>\n",
       "  </tbody>\n",
       "</table>\n",
       "</div>"
      ],
      "text/plain": [
       "       y_true      y_pred  percent_error\n",
       "0   87.454012   88.324483      -0.995347\n",
       "1  145.071431  142.081357       2.061104\n",
       "2  123.199394  124.117002      -0.744815\n",
       "3  109.865848   89.990159      18.090871\n",
       "4   65.601864   63.405145       3.348562"
      ]
     },
     "execution_count": 7,
     "metadata": {},
     "output_type": "execute_result"
    }
   ],
   "source": [
    "# Calculate Percent Error\n",
    "def calculate_percent_error(y_true, y_pred):\n",
    "    \"\"\"\n",
    "    Calculate Percent Error.\n",
    "    \n",
    "    Parameters:\n",
    "        y_true (array-like): True values.\n",
    "        y_pred (array-like): Predicted values.\n",
    "    \n",
    "    Returns:\n",
    "        array-like: Percent error for each prediction.\n",
    "    \"\"\"\n",
    "    y_true, y_pred = np.array(y_true), np.array(y_pred)\n",
    "    return ((y_true - y_pred) / y_true) * 100\n",
    "\n",
    "# Calculate Percent Error using the generated datasets\n",
    "percent_error = calculate_percent_error(y_true, y_pred)\n",
    "\n",
    "# Add Percent Error to the DataFrame for better visualization\n",
    "data['percent_error'] = percent_error\n",
    "\n",
    "# Display the first few rows with Percent Error\n",
    "data.head()"
   ]
  },
  {
   "cell_type": "markdown",
   "metadata": {},
   "source": [
    "# Calculate R² Coefficient of Determination\n",
    "Use scikit-learn's r2_score function to calculate the R² coefficient of determination."
   ]
  },
  {
   "cell_type": "code",
   "execution_count": 8,
   "metadata": {},
   "outputs": [
    {
     "name": "stdout",
     "output_type": "stream",
     "text": [
      "R² Coefficient of Determination: 0.9058\n"
     ]
    }
   ],
   "source": [
    "from sklearn.metrics import r2_score\n",
    "\n",
    "# Calculate R² Coefficient of Determination\n",
    "r2 = r2_score(y_true, y_pred)\n",
    "\n",
    "# Display the result\n",
    "print(f\"R² Coefficient of Determination: {r2:.4f}\")"
   ]
  },
  {
   "cell_type": "markdown",
   "metadata": {},
   "source": [
    "# Calculate WAPE (Weighted Absolute Percentage Error)\n",
    "Implement the formula for WAPE and calculate it using y_true and y_pred."
   ]
  },
  {
   "cell_type": "code",
   "execution_count": 9,
   "metadata": {},
   "outputs": [
    {
     "name": "stdout",
     "output_type": "stream",
     "text": [
      "Weighted Absolute Percentage Error (WAPE): 7.43%\n"
     ]
    }
   ],
   "source": [
    "# Calculate WAPE (Weighted Absolute Percentage Error)\n",
    "def calculate_wape(y_true, y_pred):\n",
    "    \"\"\"\n",
    "    Calculate Weighted Absolute Percentage Error (WAPE).\n",
    "    \n",
    "    Parameters:\n",
    "        y_true (array-like): True values.\n",
    "        y_pred (array-like): Predicted values.\n",
    "    \n",
    "    Returns:\n",
    "        float: WAPE value.\n",
    "    \"\"\"\n",
    "    y_true, y_pred = np.array(y_true), np.array(y_pred)\n",
    "    return np.sum(np.abs(y_true - y_pred)) / np.sum(np.abs(y_true)) * 100\n",
    "\n",
    "# Calculate WAPE using the generated datasets\n",
    "wape = calculate_wape(y_true, y_pred)\n",
    "\n",
    "# Display the result\n",
    "print(f\"Weighted Absolute Percentage Error (WAPE): {wape:.2f}%\")"
   ]
  },
  {
   "cell_type": "markdown",
   "metadata": {},
   "source": [
    "# Calculate Max Error\n",
    "Use scikit-learn's max_error function to calculate the maximum error."
   ]
  },
  {
   "cell_type": "code",
   "execution_count": 10,
   "metadata": {},
   "outputs": [
    {
     "name": "stdout",
     "output_type": "stream",
     "text": [
      "Max Error: 24.63\n"
     ]
    }
   ],
   "source": [
    "from sklearn.metrics import max_error\n",
    "\n",
    "# Calculate Max Error\n",
    "max_err = max_error(y_true, y_pred)\n",
    "\n",
    "# Display the result\n",
    "print(f\"Max Error: {max_err:.2f}\")"
   ]
  },
  {
   "cell_type": "markdown",
   "metadata": {},
   "source": [
    "# Calculate MSE (Mean Squared Error)\n",
    "Use scikit-learn's mean_squared_error function to calculate MSE."
   ]
  },
  {
   "cell_type": "code",
   "execution_count": 11,
   "metadata": {},
   "outputs": [
    {
     "name": "stdout",
     "output_type": "stream",
     "text": [
      "Mean Squared Error (MSE): 82.51\n"
     ]
    }
   ],
   "source": [
    "# Calculate MSE (Mean Squared Error)\n",
    "# Use scikit-learn's mean_squared_error function to calculate MSE\n",
    "mse = mean_squared_error(y_true, y_pred)\n",
    "\n",
    "# Display the result\n",
    "print(f\"Mean Squared Error (MSE): {mse:.2f}\")"
   ]
  },
  {
   "cell_type": "markdown",
   "metadata": {},
   "source": [
    "# Calculate MSLE (Mean Squared Logarithmic Error)\n",
    "Use scikit-learn's mean_squared_log_error function to calculate MSLE."
   ]
  },
  {
   "cell_type": "code",
   "execution_count": 12,
   "metadata": {},
   "outputs": [
    {
     "name": "stdout",
     "output_type": "stream",
     "text": [
      "Mean Squared Logarithmic Error (MSLE): 0.0113\n"
     ]
    }
   ],
   "source": [
    "# Calculate MSLE (Mean Squared Logarithmic Error)\n",
    "# Use scikit-learn's mean_squared_log_error function to calculate MSLE\n",
    "msle = mean_squared_log_error(y_true, y_pred)\n",
    "\n",
    "# Display the result\n",
    "print(f\"Mean Squared Logarithmic Error (MSLE): {msle:.4f}\")"
   ]
  },
  {
   "cell_type": "markdown",
   "metadata": {},
   "source": [
    "# Calculate RMSE (Root Mean Squared Error)\n",
    "Calculate RMSE by taking the square root of MSE."
   ]
  },
  {
   "cell_type": "code",
   "execution_count": 13,
   "metadata": {},
   "outputs": [
    {
     "name": "stdout",
     "output_type": "stream",
     "text": [
      "Root Mean Squared Error (RMSE): 9.08\n"
     ]
    }
   ],
   "source": [
    "# Calculate RMSE (Root Mean Squared Error)\n",
    "def calculate_rmse(mse):\n",
    "    \"\"\"\n",
    "    Calculate Root Mean Squared Error (RMSE) from Mean Squared Error (MSE).\n",
    "    \n",
    "    Parameters:\n",
    "        mse (float): Mean Squared Error value.\n",
    "    \n",
    "    Returns:\n",
    "        float: RMSE value.\n",
    "    \"\"\"\n",
    "    return np.sqrt(mse)\n",
    "\n",
    "# Calculate RMSE using the previously calculated MSE\n",
    "rmse = calculate_rmse(mse)\n",
    "\n",
    "# Display the result\n",
    "print(f\"Root Mean Squared Error (RMSE): {rmse:.2f}\")"
   ]
  },
  {
   "cell_type": "markdown",
   "metadata": {},
   "source": [
    "# Calculate RMSLE (Root Mean Squared Logarithmic Error)\n",
    "Calculate RMSLE by taking the square root of MSLE."
   ]
  },
  {
   "cell_type": "code",
   "execution_count": 14,
   "metadata": {},
   "outputs": [
    {
     "name": "stdout",
     "output_type": "stream",
     "text": [
      "Root Mean Squared Logarithmic Error (RMSLE): 0.1065\n"
     ]
    }
   ],
   "source": [
    "# Calculate RMSLE (Root Mean Squared Logarithmic Error)\n",
    "def calculate_rmsle(msle):\n",
    "    \"\"\"\n",
    "    Calculate Root Mean Squared Logarithmic Error (RMSLE) from Mean Squared Logarithmic Error (MSLE).\n",
    "    \n",
    "    Parameters:\n",
    "        msle (float): Mean Squared Logarithmic Error value.\n",
    "    \n",
    "    Returns:\n",
    "        float: RMSLE value.\n",
    "    \"\"\"\n",
    "    return np.sqrt(msle)\n",
    "\n",
    "# Calculate RMSLE using the previously calculated MSLE\n",
    "rmsle = calculate_rmsle(msle)\n",
    "\n",
    "# Display the result\n",
    "print(f\"Root Mean Squared Logarithmic Error (RMSLE): {rmsle:.4f}\")"
   ]
  },
  {
   "cell_type": "markdown",
   "metadata": {},
   "source": [
    "## Mean Gamma Deviance"
   ]
  },
  {
   "cell_type": "code",
   "execution_count": 16,
   "metadata": {},
   "outputs": [
    {
     "name": "stdout",
     "output_type": "stream",
     "text": [
      "Mean Gamma Deviance: -0.0118\n"
     ]
    }
   ],
   "source": [
    "#Calculate mean gamma deviance  \n",
    "def calculate_mean_gamma_deviance(y_true, y_pred):\n",
    "    \"\"\"\n",
    "    Calculate Mean Gamma Deviance.\n",
    "    \n",
    "    Parameters:\n",
    "        y_true (array-like): True values.\n",
    "        y_pred (array-like): Predicted values.\n",
    "    \n",
    "    Returns:\n",
    "        float: Mean Gamma Deviance value.\n",
    "    \"\"\"\n",
    "    y_true, y_pred = np.array(y_true), np.array(y_pred)\n",
    "    return np.mean(2 * (np.log(y_pred / y_true) - (y_pred / y_true) + 1))\n",
    "\n",
    "# Calculate Mean Gamma Deviance using the generated datasets\n",
    "mean_gamma_deviance = calculate_mean_gamma_deviance(y_true, y_pred)\n",
    "\n",
    "# Display the result\n",
    "print(f\"Mean Gamma Deviance: {mean_gamma_deviance:.4f}\")\n",
    "\n"
   ]
  },
  {
   "cell_type": "markdown",
   "metadata": {},
   "source": [
    "## Mean Poisson Deviance"
   ]
  },
  {
   "cell_type": "code",
   "execution_count": 17,
   "metadata": {},
   "outputs": [
    {
     "name": "stdout",
     "output_type": "stream",
     "text": [
      "Mean Poisson Deviance: -701.8994\n"
     ]
    }
   ],
   "source": [
    "#Calculate mean poisson deviance\n",
    "def calculate_mean_poisson_deviance(y_true, y_pred):\n",
    "    \"\"\"\n",
    "    Calculate Mean Poisson Deviance.\n",
    "    \n",
    "    Parameters:\n",
    "        y_true (array-like): True values.\n",
    "        y_pred (array-like): Predicted values.\n",
    "    \n",
    "    Returns:\n",
    "        float: Mean Poisson Deviance value.\n",
    "    \"\"\"\n",
    "    y_true, y_pred = np.array(y_true), np.array(y_pred)\n",
    "    return np.mean(2 * (y_pred - y_true * np.log(y_pred)))\n",
    "\n",
    "# Calculate Mean Poisson Deviance using the generated datasets\n",
    "mean_poisson_deviance = calculate_mean_poisson_deviance(y_true, y_pred)\n",
    "\n",
    "# Display the result\n",
    "print(f\"Mean Poisson Deviance: {mean_poisson_deviance:.4f}\")\n",
    "\n"
   ]
  },
  {
   "cell_type": "markdown",
   "metadata": {},
   "source": [
    "## Calcuate the D2 Teeedie Score for regression scoring\n"
   ]
  },
  {
   "cell_type": "code",
   "execution_count": 18,
   "metadata": {},
   "outputs": [
    {
     "name": "stdout",
     "output_type": "stream",
     "text": [
      "Mean Tweedie Deviance: 195.9256\n"
     ]
    }
   ],
   "source": [
    "#Calculate mean tweedie deviance\n",
    "def calculate_mean_tweedie_deviance(y_true, y_pred, p=0):\n",
    "    \"\"\"\n",
    "    Calculate Mean Tweedie Deviance.\n",
    "    \n",
    "    Parameters:\n",
    "        y_true (array-like): True values.\n",
    "        y_pred (array-like): Predicted values.\n",
    "        p (int, float): Tweedie power parameter.\n",
    "    \n",
    "    Returns:\n",
    "        float: Mean Tweedie Deviance value.\n",
    "    \"\"\"\n",
    "    y_true, y_pred = np.array(y_true), np.array(y_pred)\n",
    "    return np.mean(2 * (np.power(y_pred, 2-p) / ((1-p) * np.power(y_true, 1-p)) - y_pred * np.power(y_true, -p) + (1-p) * np.power(y_true, 1-p)))\n",
    "\n",
    "# Calculate Mean Tweedie Deviance using the generated datasets\n",
    "mean_tweedie_deviance = calculate_mean_tweedie_deviance(y_true, y_pred, p=0)\n",
    "\n",
    "# Display the result\n",
    "print(f\"Mean Tweedie Deviance: {mean_tweedie_deviance:.4f}\")"
   ]
  },
  {
   "cell_type": "markdown",
   "metadata": {},
   "source": [
    "## D2 Absolute Error"
   ]
  },
  {
   "cell_type": "code",
   "execution_count": 19,
   "metadata": {},
   "outputs": [
    {
     "name": "stdout",
     "output_type": "stream",
     "text": [
      "D² Absolute Error: 0.0814\n"
     ]
    }
   ],
   "source": [
    "#Calculate D2 absoulte error\n",
    "def calculate_d2_absolute_error(y_true, y_pred):\n",
    "    \"\"\"\n",
    "    Calculate D² Absolute Error.\n",
    "    \n",
    "    Parameters:\n",
    "        y_true (array-like): True values.\n",
    "        y_pred (array-like): Predicted values.\n",
    "    \n",
    "    Returns:\n",
    "        float: D² Absolute Error value.\n",
    "    \"\"\"\n",
    "    y_true, y_pred = np.array(y_true), np.array(y_pred)\n",
    "    return np.mean(np.abs(np.log(y_pred + 1) - np.log(y_true + 1)))\n",
    "\n",
    "# Calculate D² Absolute Error using the generated datasets\n",
    "d2_absolute_error = calculate_d2_absolute_error(y_true, y_pred)\n",
    "\n",
    "# Display the result\n",
    "\n",
    "print(f\"D² Absolute Error: {d2_absolute_error:.4f}\")\n"
   ]
  },
  {
   "cell_type": "markdown",
   "metadata": {},
   "source": [
    "## Explained Variance Score for regression scoring"
   ]
  },
  {
   "cell_type": "code",
   "execution_count": 20,
   "metadata": {},
   "outputs": [
    {
     "name": "stdout",
     "output_type": "stream",
     "text": [
      "Explained Variance Score: 0.9058\n"
     ]
    }
   ],
   "source": [
    "#Explained Variance Score for regression\n",
    "from sklearn.metrics import explained_variance_score\n",
    "\n",
    "# Calculate Explained Variance Score\n",
    "evs = explained_variance_score(y_true, y_pred)\n",
    "\n",
    "# Display the result\n",
    "print(f\"Explained Variance Score: {evs:.4f}\")\n"
   ]
  }
 ],
 "metadata": {
  "kernelspec": {
   "display_name": "base",
   "language": "python",
   "name": "python3"
  },
  "language_info": {
   "codemirror_mode": {
    "name": "ipython",
    "version": 3
   },
   "file_extension": ".py",
   "mimetype": "text/x-python",
   "name": "python",
   "nbconvert_exporter": "python",
   "pygments_lexer": "ipython3",
   "version": "3.9.13"
  }
 },
 "nbformat": 4,
 "nbformat_minor": 2
}
